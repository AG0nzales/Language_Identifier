{
  "nbformat": 4,
  "nbformat_minor": 0,
  "metadata": {
    "colab": {
      "name": "Language_Identifier.ipynb",
      "provenance": [],
      "collapsed_sections": [],
      "authorship_tag": "ABX9TyOg88pUjln0KpVt5b2OK9+F",
      "include_colab_link": true
    },
    "kernelspec": {
      "name": "python3",
      "display_name": "Python 3"
    },
    "language_info": {
      "name": "python"
    },
    "accelerator": "GPU"
  },
  "cells": [
    {
      "cell_type": "markdown",
      "metadata": {
        "id": "view-in-github",
        "colab_type": "text"
      },
      "source": [
        "<a href=\"https://colab.research.google.com/github/AG0nzales/Language_Identifier/blob/main/Language_Identifier.ipynb\" target=\"_parent\"><img src=\"https://colab.research.google.com/assets/colab-badge.svg\" alt=\"Open In Colab\"/></a>"
      ]
    },
    {
      "cell_type": "markdown",
      "source": [
        "# Cebuano Language Identifier"
      ],
      "metadata": {
        "id": "qwno05yvWIho"
      }
    },
    {
      "cell_type": "markdown",
      "source": [
        "## Imports"
      ],
      "metadata": {
        "id": "j_Q4FiR4E6es"
      }
    },
    {
      "cell_type": "code",
      "execution_count": null,
      "metadata": {
        "id": "0DirUxndnWLK"
      },
      "outputs": [],
      "source": [
        "import numpy as np\n",
        "import pandas as pd\n",
        "import string\n",
        "import re\n",
        "import matplotlib.pyplot as plt\n",
        "import seaborn as sns\n",
        "\n",
        "import nltk\n",
        "from nltk.tokenize import word_tokenize\n",
        "from sklearn.preprocessing import LabelEncoder\n",
        "from collections import defaultdict\n",
        "from sklearn.feature_extraction.text import TfidfVectorizer\n",
        "from sklearn import model_selection, naive_bayes, svm\n",
        "from sklearn.neighbors import KNeighborsClassifier\n",
        "from sklearn.tree import DecisionTreeClassifier\n",
        "from sklearn.metrics import accuracy_score"
      ]
    },
    {
      "cell_type": "code",
      "source": [
        "nltk.download('punkt')"
      ],
      "metadata": {
        "colab": {
          "base_uri": "https://localhost:8080/"
        },
        "id": "MA0hZ_QAKSHx",
        "outputId": "88bf68a9-65e3-44e7-94d0-6cf396a578fc"
      },
      "execution_count": null,
      "outputs": [
        {
          "output_type": "stream",
          "name": "stdout",
          "text": [
            "[nltk_data] Downloading package punkt to /root/nltk_data...\n",
            "[nltk_data]   Unzipping tokenizers/punkt.zip.\n"
          ]
        },
        {
          "output_type": "execute_result",
          "data": {
            "text/plain": [
              "True"
            ]
          },
          "metadata": {},
          "execution_count": 2
        }
      ]
    },
    {
      "cell_type": "markdown",
      "source": [
        "# Reading Dataframe"
      ],
      "metadata": {
        "id": "gDYJiEkJE8sm"
      }
    },
    {
      "cell_type": "code",
      "source": [
        "df = pd.read_excel('/content/Parallel.OpenDomain.xlsx', names=[\"Contexts\", \"Language\"])\n",
        "df"
      ],
      "metadata": {
        "id": "E5NC8bjQ1snk",
        "colab": {
          "base_uri": "https://localhost:8080/",
          "height": 423
        },
        "outputId": "6029998b-f4db-4b41-fcdf-654b9865cce0"
      },
      "execution_count": null,
      "outputs": [
        {
          "output_type": "execute_result",
          "data": {
            "text/plain": [
              "                                                Contexts  Language\n",
              "0                 Ang puso niya'y puno nang kaligayahan.  Filipino\n",
              "1                                    Ilan ang mga kulay?  Filipino\n",
              "2                           Nakakapagbasa ako ng Ingles.  Filipino\n",
              "3                                Nakikita ko sa mata mo.  Filipino\n",
              "4                                Di ko rin maipaliwanag.  Filipino\n",
              "...                                                  ...       ...\n",
              "19994  Ang Dakila nga Pula nga Batik sa Hupiter kay d...   Cebuano\n",
              "19995  Ang Saturno kay naay ruweda nga nagalibot sa i...   Cebuano\n",
              "19996   Hapit mag 150 ka bulan ang nagalibot sa Saturno.   Cebuano\n",
              "19997                      Gihigugma nako akoang amahan.   Cebuano\n",
              "19998           Giingun niya nga moadto siya sa Amerika.   Cebuano\n",
              "\n",
              "[19999 rows x 2 columns]"
            ],
            "text/html": [
              "\n",
              "  <div id=\"df-183343da-f445-45f6-868f-0f0a9a964c28\">\n",
              "    <div class=\"colab-df-container\">\n",
              "      <div>\n",
              "<style scoped>\n",
              "    .dataframe tbody tr th:only-of-type {\n",
              "        vertical-align: middle;\n",
              "    }\n",
              "\n",
              "    .dataframe tbody tr th {\n",
              "        vertical-align: top;\n",
              "    }\n",
              "\n",
              "    .dataframe thead th {\n",
              "        text-align: right;\n",
              "    }\n",
              "</style>\n",
              "<table border=\"1\" class=\"dataframe\">\n",
              "  <thead>\n",
              "    <tr style=\"text-align: right;\">\n",
              "      <th></th>\n",
              "      <th>Contexts</th>\n",
              "      <th>Language</th>\n",
              "    </tr>\n",
              "  </thead>\n",
              "  <tbody>\n",
              "    <tr>\n",
              "      <th>0</th>\n",
              "      <td>Ang puso niya'y puno nang kaligayahan.</td>\n",
              "      <td>Filipino</td>\n",
              "    </tr>\n",
              "    <tr>\n",
              "      <th>1</th>\n",
              "      <td>Ilan ang mga kulay?</td>\n",
              "      <td>Filipino</td>\n",
              "    </tr>\n",
              "    <tr>\n",
              "      <th>2</th>\n",
              "      <td>Nakakapagbasa ako ng Ingles.</td>\n",
              "      <td>Filipino</td>\n",
              "    </tr>\n",
              "    <tr>\n",
              "      <th>3</th>\n",
              "      <td>Nakikita ko sa mata mo.</td>\n",
              "      <td>Filipino</td>\n",
              "    </tr>\n",
              "    <tr>\n",
              "      <th>4</th>\n",
              "      <td>Di ko rin maipaliwanag.</td>\n",
              "      <td>Filipino</td>\n",
              "    </tr>\n",
              "    <tr>\n",
              "      <th>...</th>\n",
              "      <td>...</td>\n",
              "      <td>...</td>\n",
              "    </tr>\n",
              "    <tr>\n",
              "      <th>19994</th>\n",
              "      <td>Ang Dakila nga Pula nga Batik sa Hupiter kay d...</td>\n",
              "      <td>Cebuano</td>\n",
              "    </tr>\n",
              "    <tr>\n",
              "      <th>19995</th>\n",
              "      <td>Ang Saturno kay naay ruweda nga nagalibot sa i...</td>\n",
              "      <td>Cebuano</td>\n",
              "    </tr>\n",
              "    <tr>\n",
              "      <th>19996</th>\n",
              "      <td>Hapit mag 150 ka bulan ang nagalibot sa Saturno.</td>\n",
              "      <td>Cebuano</td>\n",
              "    </tr>\n",
              "    <tr>\n",
              "      <th>19997</th>\n",
              "      <td>Gihigugma nako akoang amahan.</td>\n",
              "      <td>Cebuano</td>\n",
              "    </tr>\n",
              "    <tr>\n",
              "      <th>19998</th>\n",
              "      <td>Giingun niya nga moadto siya sa Amerika.</td>\n",
              "      <td>Cebuano</td>\n",
              "    </tr>\n",
              "  </tbody>\n",
              "</table>\n",
              "<p>19999 rows × 2 columns</p>\n",
              "</div>\n",
              "      <button class=\"colab-df-convert\" onclick=\"convertToInteractive('df-183343da-f445-45f6-868f-0f0a9a964c28')\"\n",
              "              title=\"Convert this dataframe to an interactive table.\"\n",
              "              style=\"display:none;\">\n",
              "        \n",
              "  <svg xmlns=\"http://www.w3.org/2000/svg\" height=\"24px\"viewBox=\"0 0 24 24\"\n",
              "       width=\"24px\">\n",
              "    <path d=\"M0 0h24v24H0V0z\" fill=\"none\"/>\n",
              "    <path d=\"M18.56 5.44l.94 2.06.94-2.06 2.06-.94-2.06-.94-.94-2.06-.94 2.06-2.06.94zm-11 1L8.5 8.5l.94-2.06 2.06-.94-2.06-.94L8.5 2.5l-.94 2.06-2.06.94zm10 10l.94 2.06.94-2.06 2.06-.94-2.06-.94-.94-2.06-.94 2.06-2.06.94z\"/><path d=\"M17.41 7.96l-1.37-1.37c-.4-.4-.92-.59-1.43-.59-.52 0-1.04.2-1.43.59L10.3 9.45l-7.72 7.72c-.78.78-.78 2.05 0 2.83L4 21.41c.39.39.9.59 1.41.59.51 0 1.02-.2 1.41-.59l7.78-7.78 2.81-2.81c.8-.78.8-2.07 0-2.86zM5.41 20L4 18.59l7.72-7.72 1.47 1.35L5.41 20z\"/>\n",
              "  </svg>\n",
              "      </button>\n",
              "      \n",
              "  <style>\n",
              "    .colab-df-container {\n",
              "      display:flex;\n",
              "      flex-wrap:wrap;\n",
              "      gap: 12px;\n",
              "    }\n",
              "\n",
              "    .colab-df-convert {\n",
              "      background-color: #E8F0FE;\n",
              "      border: none;\n",
              "      border-radius: 50%;\n",
              "      cursor: pointer;\n",
              "      display: none;\n",
              "      fill: #1967D2;\n",
              "      height: 32px;\n",
              "      padding: 0 0 0 0;\n",
              "      width: 32px;\n",
              "    }\n",
              "\n",
              "    .colab-df-convert:hover {\n",
              "      background-color: #E2EBFA;\n",
              "      box-shadow: 0px 1px 2px rgba(60, 64, 67, 0.3), 0px 1px 3px 1px rgba(60, 64, 67, 0.15);\n",
              "      fill: #174EA6;\n",
              "    }\n",
              "\n",
              "    [theme=dark] .colab-df-convert {\n",
              "      background-color: #3B4455;\n",
              "      fill: #D2E3FC;\n",
              "    }\n",
              "\n",
              "    [theme=dark] .colab-df-convert:hover {\n",
              "      background-color: #434B5C;\n",
              "      box-shadow: 0px 1px 3px 1px rgba(0, 0, 0, 0.15);\n",
              "      filter: drop-shadow(0px 1px 2px rgba(0, 0, 0, 0.3));\n",
              "      fill: #FFFFFF;\n",
              "    }\n",
              "  </style>\n",
              "\n",
              "      <script>\n",
              "        const buttonEl =\n",
              "          document.querySelector('#df-183343da-f445-45f6-868f-0f0a9a964c28 button.colab-df-convert');\n",
              "        buttonEl.style.display =\n",
              "          google.colab.kernel.accessAllowed ? 'block' : 'none';\n",
              "\n",
              "        async function convertToInteractive(key) {\n",
              "          const element = document.querySelector('#df-183343da-f445-45f6-868f-0f0a9a964c28');\n",
              "          const dataTable =\n",
              "            await google.colab.kernel.invokeFunction('convertToInteractive',\n",
              "                                                     [key], {});\n",
              "          if (!dataTable) return;\n",
              "\n",
              "          const docLinkHtml = 'Like what you see? Visit the ' +\n",
              "            '<a target=\"_blank\" href=https://colab.research.google.com/notebooks/data_table.ipynb>data table notebook</a>'\n",
              "            + ' to learn more about interactive tables.';\n",
              "          element.innerHTML = '';\n",
              "          dataTable['output_type'] = 'display_data';\n",
              "          await google.colab.output.renderOutput(dataTable, element);\n",
              "          const docLink = document.createElement('div');\n",
              "          docLink.innerHTML = docLinkHtml;\n",
              "          element.appendChild(docLink);\n",
              "        }\n",
              "      </script>\n",
              "    </div>\n",
              "  </div>\n",
              "  "
            ]
          },
          "metadata": {},
          "execution_count": 4
        }
      ]
    },
    {
      "cell_type": "markdown",
      "source": [
        "# Data Pre-processing"
      ],
      "metadata": {
        "id": "zL3M2LaHFBbp"
      }
    },
    {
      "cell_type": "code",
      "source": [
        "def remove_pun(text):\n",
        "  for pun in string.punctuation:\n",
        "    text = str(text).replace(pun, \"\")\n",
        "  text = text.lower()\n",
        "  return text"
      ],
      "metadata": {
        "id": "WuQSFvFv7KUP"
      },
      "execution_count": null,
      "outputs": []
    },
    {
      "cell_type": "code",
      "source": [
        "df['Contexts'] = df['Contexts'].apply(remove_pun)"
      ],
      "metadata": {
        "id": "n_aEh2CC7k7q"
      },
      "execution_count": null,
      "outputs": []
    },
    {
      "cell_type": "code",
      "source": [
        "Filip = df[df['Language'] == 'Filipino'] \n",
        "\n",
        "Cebua = df[df['Language'] == 'Cebuano'] "
      ],
      "metadata": {
        "id": "2zqceYLp_YXi"
      },
      "execution_count": null,
      "outputs": []
    },
    {
      "cell_type": "code",
      "source": [
        "Filip['tokenized_conts'] = Filip.apply(lambda row: nltk.word_tokenize(row['Contexts']), axis=1)"
      ],
      "metadata": {
        "colab": {
          "base_uri": "https://localhost:8080/"
        },
        "id": "OBgIuRjgJlug",
        "outputId": "dc739ff2-bd5b-4487-f0f6-0ad89d8f00b9"
      },
      "execution_count": null,
      "outputs": [
        {
          "output_type": "stream",
          "name": "stderr",
          "text": [
            "/usr/local/lib/python3.7/dist-packages/ipykernel_launcher.py:1: SettingWithCopyWarning: \n",
            "A value is trying to be set on a copy of a slice from a DataFrame.\n",
            "Try using .loc[row_indexer,col_indexer] = value instead\n",
            "\n",
            "See the caveats in the documentation: https://pandas.pydata.org/pandas-docs/stable/user_guide/indexing.html#returning-a-view-versus-a-copy\n",
            "  \"\"\"Entry point for launching an IPython kernel.\n"
          ]
        }
      ]
    },
    {
      "cell_type": "code",
      "source": [
        "Cebua['tokenized_contz'] = Cebua.apply(lambda row: nltk.word_tokenize(row['Contexts']), axis=1)"
      ],
      "metadata": {
        "colab": {
          "base_uri": "https://localhost:8080/"
        },
        "id": "Li2F7Z79KVep",
        "outputId": "20f71d2b-caed-4eef-bd42-3c99e4e9daf7"
      },
      "execution_count": null,
      "outputs": [
        {
          "output_type": "stream",
          "name": "stderr",
          "text": [
            "/usr/local/lib/python3.7/dist-packages/ipykernel_launcher.py:1: SettingWithCopyWarning: \n",
            "A value is trying to be set on a copy of a slice from a DataFrame.\n",
            "Try using .loc[row_indexer,col_indexer] = value instead\n",
            "\n",
            "See the caveats in the documentation: https://pandas.pydata.org/pandas-docs/stable/user_guide/indexing.html#returning-a-view-versus-a-copy\n",
            "  \"\"\"Entry point for launching an IPython kernel.\n"
          ]
        }
      ]
    },
    {
      "cell_type": "code",
      "source": [
        "Filip['conts_length'] = Filip.apply(lambda row: len(row['tokenized_conts']), axis=1)"
      ],
      "metadata": {
        "colab": {
          "base_uri": "https://localhost:8080/"
        },
        "id": "2-amkBwlKlAT",
        "outputId": "7650b146-e109-418e-db15-2cd6db0c0970"
      },
      "execution_count": null,
      "outputs": [
        {
          "output_type": "stream",
          "name": "stderr",
          "text": [
            "/usr/local/lib/python3.7/dist-packages/ipykernel_launcher.py:1: SettingWithCopyWarning: \n",
            "A value is trying to be set on a copy of a slice from a DataFrame.\n",
            "Try using .loc[row_indexer,col_indexer] = value instead\n",
            "\n",
            "See the caveats in the documentation: https://pandas.pydata.org/pandas-docs/stable/user_guide/indexing.html#returning-a-view-versus-a-copy\n",
            "  \"\"\"Entry point for launching an IPython kernel.\n"
          ]
        }
      ]
    },
    {
      "cell_type": "code",
      "source": [
        "Cebua['contz_length'] = Cebua.apply(lambda row: len(row['tokenized_contz']), axis=1)"
      ],
      "metadata": {
        "colab": {
          "base_uri": "https://localhost:8080/"
        },
        "id": "W-6zBQGJKr_g",
        "outputId": "0415d6dc-d275-4dca-de00-1fe3d38f014c"
      },
      "execution_count": null,
      "outputs": [
        {
          "output_type": "stream",
          "name": "stderr",
          "text": [
            "/usr/local/lib/python3.7/dist-packages/ipykernel_launcher.py:1: SettingWithCopyWarning: \n",
            "A value is trying to be set on a copy of a slice from a DataFrame.\n",
            "Try using .loc[row_indexer,col_indexer] = value instead\n",
            "\n",
            "See the caveats in the documentation: https://pandas.pydata.org/pandas-docs/stable/user_guide/indexing.html#returning-a-view-versus-a-copy\n",
            "  \"\"\"Entry point for launching an IPython kernel.\n"
          ]
        }
      ]
    },
    {
      "cell_type": "code",
      "source": [
        "Filip['totalwords'] = [len(x.split()) for x in Filip['Contexts'].tolist()]"
      ],
      "metadata": {
        "id": "RhN64JrQsXmG",
        "colab": {
          "base_uri": "https://localhost:8080/"
        },
        "outputId": "7b2ea977-6671-4249-e740-f438dbe4e312"
      },
      "execution_count": null,
      "outputs": [
        {
          "output_type": "stream",
          "name": "stderr",
          "text": [
            "/usr/local/lib/python3.7/dist-packages/ipykernel_launcher.py:1: SettingWithCopyWarning: \n",
            "A value is trying to be set on a copy of a slice from a DataFrame.\n",
            "Try using .loc[row_indexer,col_indexer] = value instead\n",
            "\n",
            "See the caveats in the documentation: https://pandas.pydata.org/pandas-docs/stable/user_guide/indexing.html#returning-a-view-versus-a-copy\n",
            "  \"\"\"Entry point for launching an IPython kernel.\n"
          ]
        }
      ]
    },
    {
      "cell_type": "code",
      "source": [
        "Cebua['totalwords'] = [len(x.split()) for x in Cebua['Contexts'].tolist()]"
      ],
      "metadata": {
        "colab": {
          "base_uri": "https://localhost:8080/"
        },
        "id": "TnVZseDeHD5Z",
        "outputId": "37274599-c8e6-4ab8-bb8f-8167c4438bcb"
      },
      "execution_count": null,
      "outputs": [
        {
          "output_type": "stream",
          "name": "stderr",
          "text": [
            "/usr/local/lib/python3.7/dist-packages/ipykernel_launcher.py:1: SettingWithCopyWarning: \n",
            "A value is trying to be set on a copy of a slice from a DataFrame.\n",
            "Try using .loc[row_indexer,col_indexer] = value instead\n",
            "\n",
            "See the caveats in the documentation: https://pandas.pydata.org/pandas-docs/stable/user_guide/indexing.html#returning-a-view-versus-a-copy\n",
            "  \"\"\"Entry point for launching an IPython kernel.\n"
          ]
        }
      ]
    },
    {
      "cell_type": "code",
      "source": [
        "Total = Filip['totalwords'].sum()\n",
        "print (Total)"
      ],
      "metadata": {
        "colab": {
          "base_uri": "https://localhost:8080/"
        },
        "id": "da2iu6Z3tFRW",
        "outputId": "9586e0f2-5186-4fbf-d1bf-d2174c295896"
      },
      "execution_count": null,
      "outputs": [
        {
          "output_type": "stream",
          "name": "stdout",
          "text": [
            "63201\n"
          ]
        }
      ]
    },
    {
      "cell_type": "code",
      "source": [
        "Total2 = Cebua['totalwords'].sum()\n",
        "print (Total2)"
      ],
      "metadata": {
        "colab": {
          "base_uri": "https://localhost:8080/"
        },
        "id": "lBCEbV6bHLrh",
        "outputId": "f6c5d702-2e58-42aa-e2a9-6fb68ea66122"
      },
      "execution_count": null,
      "outputs": [
        {
          "output_type": "stream",
          "name": "stdout",
          "text": [
            "66339\n"
          ]
        }
      ]
    },
    {
      "cell_type": "code",
      "source": [
        "def Average(lst):\n",
        "    return sum(lst) / len(lst) "
      ],
      "metadata": {
        "id": "z7mBl0cruc8N"
      },
      "execution_count": null,
      "outputs": []
    },
    {
      "cell_type": "code",
      "source": [
        "W = []\n",
        "uniquetoken = 0\n",
        "words = 0\n",
        "for text in Filip['Contexts']:\n",
        "  token = text.split()\n",
        "  a_set = set(token)\n",
        "  number_of_unique_token = len(a_set)\n",
        "  uniquetoken = number_of_unique_token + uniquetoken\n",
        "  ans1= len(token)\n",
        "  words = words + ans1\n",
        "  W.append(ans1)\n",
        "\n",
        "print(\"(Filipino) Number of all contexts: \",len(W)) \n",
        "print(\"(Filipino) Number of tokens: \",words)\n",
        "print(\"(Filipino) Number of unique tokens: \",uniquetoken) \n",
        "average = Average(W)\n",
        "print(\"(Filipino) Average tokens per line: \", round(average, 2))\n",
        "print(\"(Filipino) Maximum number of tokens in a line: \", Filip['conts_length'].max())\n",
        "print(\"(Filipino) Minimum number of tokens in a line: \", Filip['conts_length'].min())\n",
        "gret = Filip[Filip['conts_length'] > 50]\n",
        "print(\"(Filipino) Sentences with number of tokens greater than 50: \", gret.count()[0])"
      ],
      "metadata": {
        "colab": {
          "base_uri": "https://localhost:8080/"
        },
        "id": "vzvDbFDhtgtf",
        "outputId": "8774139c-0b4a-454d-b0ec-de18c3091495"
      },
      "execution_count": null,
      "outputs": [
        {
          "output_type": "stream",
          "name": "stdout",
          "text": [
            "(Filipino) Number of all contexts:  9999\n",
            "(Filipino) Number of tokens:  63201\n",
            "(Filipino) Number of unique tokens:  61352\n",
            "(Filipino) Average tokens per line:  6.32\n",
            "(Filipino) Maximum number of tokens in a line:  44\n",
            "(Filipino) Minimum number of tokens in a line:  1\n",
            "(Filipino) Sentences with number of tokens greater than 50:  0\n"
          ]
        }
      ]
    },
    {
      "cell_type": "code",
      "source": [
        "W = []\n",
        "uniquetoken = 0\n",
        "words = 0\n",
        "for text in Cebua['Contexts']:\n",
        "  token = text.split()\n",
        "  a_set = set(token)\n",
        "  number_of_unique_token = len(a_set)\n",
        "  uniquetoken = number_of_unique_token + uniquetoken\n",
        "  ans1= len(token)\n",
        "  words = words + ans1\n",
        "  W.append(ans1)\n",
        "\n",
        "print(\"(Cebuano) Number of all contexts =\",len(W)) \n",
        "print(\"(Cebuano) Number of tokens =\",words)\n",
        "print(\"(Cebuano) Number of unique tokens =\",uniquetoken) \n",
        "average = Average(W)\n",
        "print(\"(Cebuano) Average tokens per line =\", round(average, 2))\n",
        "print(\"(Cebuano) Maximum number of tokens in a line: \", Cebua['contz_length'].max())\n",
        "print(\"(Cebuano) Minimum number of tokens in a line: \", Cebua['contz_length'].min())\n",
        "greit = Cebua[Cebua['contz_length'] > 50]\n",
        "print(\"(Cebuano) Sentences with number of tokens greater than 50: \", greit.count()[0])"
      ],
      "metadata": {
        "colab": {
          "base_uri": "https://localhost:8080/"
        },
        "id": "emrZzQrvwZFv",
        "outputId": "61e2a63a-6311-4720-f20e-45355d3f6991"
      },
      "execution_count": null,
      "outputs": [
        {
          "output_type": "stream",
          "name": "stdout",
          "text": [
            "(Cebuano) Number of all contexts = 10000\n",
            "(Cebuano) Number of tokens = 66339\n",
            "(Cebuano) Number of unique tokens = 63832\n",
            "(Cebuano) Average tokens per line = 6.63\n",
            "(Cebuano) Maximum number of tokens in a line:  47\n",
            "(Cebuano) Minimum number of tokens in a line:  1\n",
            "(Cebuano) Sentences with number of tokens greater than 50:  0\n"
          ]
        }
      ]
    },
    {
      "cell_type": "markdown",
      "source": [
        "# Training and Testing section"
      ],
      "metadata": {
        "id": "QTZoRZkKJc7v"
      }
    },
    {
      "cell_type": "code",
      "source": [
        "from sklearn.model_selection import train_test_split"
      ],
      "metadata": {
        "id": "k2jPOD7E-TmS"
      },
      "execution_count": null,
      "outputs": []
    },
    {
      "cell_type": "markdown",
      "source": [
        "# We locate where the X and Y is in the Dataframe\n",
        "## preparation for training and testing"
      ],
      "metadata": {
        "id": "2L_9SW6GFTix"
      }
    },
    {
      "cell_type": "code",
      "source": [
        "X = df.iloc[:,0]\n",
        "Y = df.iloc[:,1]"
      ],
      "metadata": {
        "id": "jZTQZ8C9-Zn9"
      },
      "execution_count": null,
      "outputs": []
    },
    {
      "cell_type": "markdown",
      "source": [
        "## Actual training and testing"
      ],
      "metadata": {
        "id": "XMrOmo1SFf1X"
      }
    },
    {
      "cell_type": "code",
      "source": [
        "X_train, X_test, Y_train, Y_test = train_test_split(X,Y,test_size = .2)"
      ],
      "metadata": {
        "id": "u3ZqwGGe-pNL"
      },
      "execution_count": null,
      "outputs": []
    },
    {
      "cell_type": "code",
      "source": [
        "X_test"
      ],
      "metadata": {
        "colab": {
          "base_uri": "https://localhost:8080/"
        },
        "id": "GgHXEkG7mt5n",
        "outputId": "e61bf05f-6dc9-4261-bab5-65e0e19dc6a6"
      },
      "execution_count": null,
      "outputs": [
        {
          "output_type": "execute_result",
          "data": {
            "text/plain": [
              "5571        ditoy may restawran na kinakainan kong malimit\n",
              "2940     alam mo ba kung saan paparoon ang masamang tao...\n",
              "18011                  nagdamgo ko nga maka adto sa mexico\n",
              "1040              baka may nagkamaling kumuha ng payong ko\n",
              "12485                          maayo ang sushi sa tindahan\n",
              "                               ...                        \n",
              "9777               nakapunta ako diyan nang maraming beses\n",
              "7462                  kailangan mong matutong magbisikleta\n",
              "13946                 dili siya nawong sa tinuod nga kapoy\n",
              "10379                dili kabalo si tom magtali sa kurbata\n",
              "16886                                     gahi siya og ulo\n",
              "Name: Contexts, Length: 4000, dtype: object"
            ]
          },
          "metadata": {},
          "execution_count": 11
        }
      ]
    },
    {
      "cell_type": "code",
      "source": [
        "from sklearn import feature_extraction"
      ],
      "metadata": {
        "id": "m1UWMCqYApkb"
      },
      "execution_count": null,
      "outputs": []
    },
    {
      "cell_type": "markdown",
      "source": [
        "# Vectorize"
      ],
      "metadata": {
        "id": "M7xipmeJFk55"
      }
    },
    {
      "cell_type": "code",
      "source": [
        "vec = feature_extraction.text.TfidfVectorizer(ngram_range=(2,3), analyzer='char')"
      ],
      "metadata": {
        "id": "0B8iyidKAsNn"
      },
      "execution_count": null,
      "outputs": []
    },
    {
      "cell_type": "code",
      "source": [
        "from sklearn import pipeline\n",
        "from sklearn import linear_model\n",
        "from sklearn import tree"
      ],
      "metadata": {
        "id": "WAwxYX6GBGpo"
      },
      "execution_count": null,
      "outputs": []
    },
    {
      "cell_type": "markdown",
      "source": [
        "## LOGISTIC REGRESSION model using pipeline"
      ],
      "metadata": {
        "id": "4Vb5NQ0EFtAV"
      }
    },
    {
      "cell_type": "code",
      "source": [
        "# clf is the name of the pipeline component\n",
        "model_pipe = pipeline.Pipeline([('vec', vec), ('clf', linear_model.LogisticRegression())]) "
      ],
      "metadata": {
        "id": "9f2ry-s2BdG-"
      },
      "execution_count": null,
      "outputs": []
    },
    {
      "cell_type": "code",
      "source": [
        "model_pipe.fit(X_train, Y_train)"
      ],
      "metadata": {
        "colab": {
          "base_uri": "https://localhost:8080/"
        },
        "id": "H69emLy_CTOv",
        "outputId": "97dd2683-791c-4652-8fbc-398ab6d1e911"
      },
      "execution_count": null,
      "outputs": [
        {
          "output_type": "execute_result",
          "data": {
            "text/plain": [
              "Pipeline(steps=[('vec', TfidfVectorizer(analyzer='char', ngram_range=(2, 3))),\n",
              "                ('clf', LogisticRegression())])"
            ]
          },
          "metadata": {},
          "execution_count": 16
        }
      ]
    },
    {
      "cell_type": "code",
      "source": [
        "predict_val = model_pipe.predict(X_test)"
      ],
      "metadata": {
        "id": "m_eICrhPmFNU"
      },
      "execution_count": null,
      "outputs": []
    },
    {
      "cell_type": "code",
      "source": [
        "from sklearn import metrics"
      ],
      "metadata": {
        "id": "gTmzN0wuma5y"
      },
      "execution_count": null,
      "outputs": []
    },
    {
      "cell_type": "code",
      "source": [
        "metrics.accuracy_score(Y_test,predict_val)*100"
      ],
      "metadata": {
        "colab": {
          "base_uri": "https://localhost:8080/"
        },
        "id": "UVayxKtVmdqc",
        "outputId": "66287d0a-fff0-4127-df25-0818f7dc4cce"
      },
      "execution_count": null,
      "outputs": [
        {
          "output_type": "execute_result",
          "data": {
            "text/plain": [
              "94.825"
            ]
          },
          "metadata": {},
          "execution_count": 19
        }
      ]
    },
    {
      "cell_type": "code",
      "source": [
        "metrics.confusion_matrix(Y_test, predict_val)"
      ],
      "metadata": {
        "colab": {
          "base_uri": "https://localhost:8080/"
        },
        "id": "FCJMfzwb2Rhi",
        "outputId": "f9ab1a3d-e3b7-4f8c-d029-36b0c39e9c22"
      },
      "execution_count": null,
      "outputs": [
        {
          "output_type": "execute_result",
          "data": {
            "text/plain": [
              "array([[1865,  114],\n",
              "       [  93, 1928]])"
            ]
          },
          "metadata": {},
          "execution_count": 20
        }
      ]
    },
    {
      "cell_type": "code",
      "source": [
        "model_pipe.predict(['AMbot talga bhie, bakit mna siya ingun ana'])"
      ],
      "metadata": {
        "colab": {
          "base_uri": "https://localhost:8080/"
        },
        "id": "OHCv6LQaz2cO",
        "outputId": "36f5b25c-3c5a-4afc-ae7e-8c88896d5c12"
      },
      "execution_count": null,
      "outputs": [
        {
          "output_type": "execute_result",
          "data": {
            "text/plain": [
              "array(['Cebuano'], dtype=object)"
            ]
          },
          "metadata": {},
          "execution_count": 21
        }
      ]
    },
    {
      "cell_type": "markdown",
      "source": [
        "# SVM model using pipeline\n",
        "\n",
        "### Support Vector Machine, A supervised machine learning algorithm used for both classification and regression"
      ],
      "metadata": {
        "id": "PIQTnjJdzrWu"
      }
    },
    {
      "cell_type": "code",
      "source": [
        "model_pipe2 = pipeline.Pipeline([('vec', vec), ('clf',  svm.SVC(C=1.0, kernel='linear', degree=3, gamma='auto'))])"
      ],
      "metadata": {
        "id": "OI7sg6L-zHff"
      },
      "execution_count": null,
      "outputs": []
    },
    {
      "cell_type": "code",
      "source": [
        "model_pipe2.fit(X_train, Y_train)"
      ],
      "metadata": {
        "colab": {
          "base_uri": "https://localhost:8080/"
        },
        "id": "yLSUStaCzYYK",
        "outputId": "7cfe093c-afbc-4277-d274-14c8be6234e1"
      },
      "execution_count": null,
      "outputs": [
        {
          "output_type": "execute_result",
          "data": {
            "text/plain": [
              "Pipeline(steps=[('vec', TfidfVectorizer(analyzer='char', ngram_range=(2, 3))),\n",
              "                ('clf', SVC(gamma='auto', kernel='linear'))])"
            ]
          },
          "metadata": {},
          "execution_count": 23
        }
      ]
    },
    {
      "cell_type": "code",
      "source": [
        "predict_val2 = model_pipe2.predict(X_test)"
      ],
      "metadata": {
        "id": "zeQnv8m-zh7B"
      },
      "execution_count": null,
      "outputs": []
    },
    {
      "cell_type": "code",
      "source": [
        "metrics.accuracy_score(Y_test,predict_val2)*100"
      ],
      "metadata": {
        "colab": {
          "base_uri": "https://localhost:8080/"
        },
        "id": "zcpqRHtozn_q",
        "outputId": "4b6f3d7b-7b17-481f-9b58-4c590f08e293"
      },
      "execution_count": null,
      "outputs": [
        {
          "output_type": "execute_result",
          "data": {
            "text/plain": [
              "95.39999999999999"
            ]
          },
          "metadata": {},
          "execution_count": 25
        }
      ]
    },
    {
      "cell_type": "code",
      "source": [
        "metrics.confusion_matrix(Y_test, predict_val2)"
      ],
      "metadata": {
        "colab": {
          "base_uri": "https://localhost:8080/"
        },
        "id": "iuza7xW02pmZ",
        "outputId": "4dc33909-c302-4b77-d4a0-de6db235fd22"
      },
      "execution_count": null,
      "outputs": [
        {
          "output_type": "execute_result",
          "data": {
            "text/plain": [
              "array([[1870,  109],\n",
              "       [  75, 1946]])"
            ]
          },
          "metadata": {},
          "execution_count": 26
        }
      ]
    },
    {
      "cell_type": "code",
      "source": [
        "model_pipe2.predict(['AMbot talga bhie, bakit mna siya ingun ana'])"
      ],
      "metadata": {
        "colab": {
          "base_uri": "https://localhost:8080/"
        },
        "id": "fxv-Ldqoz_re",
        "outputId": "3de5e3f1-2dcd-4eb3-e65a-ee135732336e"
      },
      "execution_count": null,
      "outputs": [
        {
          "output_type": "execute_result",
          "data": {
            "text/plain": [
              "array(['Cebuano'], dtype=object)"
            ]
          },
          "metadata": {},
          "execution_count": 27
        }
      ]
    },
    {
      "cell_type": "markdown",
      "source": [
        "# KNN model using pipeline\n",
        "\n",
        "### A supervised machine learning algorithm. The algorithm can be used to solve both classification and regression problem statements"
      ],
      "metadata": {
        "id": "9bXikffd0DLw"
      }
    },
    {
      "cell_type": "code",
      "source": [
        "model_pipe3 = pipeline.Pipeline([('vec', vec), ('clf',  KNeighborsClassifier(n_neighbors=3))])"
      ],
      "metadata": {
        "id": "QRcwczbD0HTg"
      },
      "execution_count": null,
      "outputs": []
    },
    {
      "cell_type": "code",
      "source": [
        "model_pipe3.fit(X_train, Y_train)"
      ],
      "metadata": {
        "colab": {
          "base_uri": "https://localhost:8080/"
        },
        "id": "iH3oe99g0Sm8",
        "outputId": "43d6687d-ed07-4a26-8b44-78a7d027c9d5"
      },
      "execution_count": null,
      "outputs": [
        {
          "output_type": "execute_result",
          "data": {
            "text/plain": [
              "Pipeline(steps=[('vec', TfidfVectorizer(analyzer='char', ngram_range=(2, 3))),\n",
              "                ('clf', KNeighborsClassifier(n_neighbors=3))])"
            ]
          },
          "metadata": {},
          "execution_count": 29
        }
      ]
    },
    {
      "cell_type": "code",
      "source": [
        "predict_val3 = model_pipe3.predict(X_test)"
      ],
      "metadata": {
        "id": "ZcoGJJls0WK-"
      },
      "execution_count": null,
      "outputs": []
    },
    {
      "cell_type": "code",
      "source": [
        "metrics.accuracy_score(Y_test,predict_val3)*100"
      ],
      "metadata": {
        "colab": {
          "base_uri": "https://localhost:8080/"
        },
        "id": "dM2yCjjn0bMb",
        "outputId": "0f6a58da-c47c-4956-e2fb-58ba7446b995"
      },
      "execution_count": null,
      "outputs": [
        {
          "output_type": "execute_result",
          "data": {
            "text/plain": [
              "84.025"
            ]
          },
          "metadata": {},
          "execution_count": 32
        }
      ]
    },
    {
      "cell_type": "code",
      "source": [
        "metrics.confusion_matrix(Y_test, predict_val3)"
      ],
      "metadata": {
        "colab": {
          "base_uri": "https://localhost:8080/"
        },
        "id": "d3SPqS322zmU",
        "outputId": "608b5ae3-e502-4113-da2e-f3832e419c11"
      },
      "execution_count": null,
      "outputs": [
        {
          "output_type": "execute_result",
          "data": {
            "text/plain": [
              "array([[1609,  370],\n",
              "       [ 269, 1752]])"
            ]
          },
          "metadata": {},
          "execution_count": 33
        }
      ]
    },
    {
      "cell_type": "code",
      "source": [
        "model_pipe3.predict(['AMbot talga bhie, bakit mna siya ingun ana'])"
      ],
      "metadata": {
        "colab": {
          "base_uri": "https://localhost:8080/"
        },
        "id": "JEWYdIol0hUp",
        "outputId": "e44a2c4d-cfb5-4b59-f76a-38d348ad8b42"
      },
      "execution_count": null,
      "outputs": [
        {
          "output_type": "execute_result",
          "data": {
            "text/plain": [
              "array(['Cebuano'], dtype=object)"
            ]
          },
          "metadata": {},
          "execution_count": 34
        }
      ]
    },
    {
      "cell_type": "markdown",
      "source": [
        "# DECISION TREE model using pipeline\n",
        "\n",
        "### It breaks down a dataset into smaller and smaller subsets while at the same time an associated decision tree is incrementally developed"
      ],
      "metadata": {
        "id": "JfQQESY709Eq"
      }
    },
    {
      "cell_type": "code",
      "source": [
        "model_pipe4 = pipeline.Pipeline([('vec', vec), ('clf',  DecisionTreeClassifier(random_state=0))])"
      ],
      "metadata": {
        "id": "RZed3ZHQ1B_6"
      },
      "execution_count": null,
      "outputs": []
    },
    {
      "cell_type": "code",
      "source": [
        "model_pipe4.fit(X_train, Y_train)"
      ],
      "metadata": {
        "colab": {
          "base_uri": "https://localhost:8080/"
        },
        "id": "XTJ2tWqd1J2p",
        "outputId": "1317e05c-9c9f-4a59-b65f-a3463b1bcba8"
      },
      "execution_count": null,
      "outputs": [
        {
          "output_type": "execute_result",
          "data": {
            "text/plain": [
              "Pipeline(steps=[('vec', TfidfVectorizer(analyzer='char', ngram_range=(2, 3))),\n",
              "                ('clf', DecisionTreeClassifier(random_state=0))])"
            ]
          },
          "metadata": {},
          "execution_count": 36
        }
      ]
    },
    {
      "cell_type": "code",
      "source": [
        "predict_val4 = model_pipe4.predict(X_test)"
      ],
      "metadata": {
        "id": "ANKyAUrW1O7N"
      },
      "execution_count": null,
      "outputs": []
    },
    {
      "cell_type": "code",
      "source": [
        "metrics.accuracy_score(Y_test,predict_val4)*100"
      ],
      "metadata": {
        "colab": {
          "base_uri": "https://localhost:8080/"
        },
        "id": "J8ZocAjO1TIT",
        "outputId": "45d524c3-e927-42db-e409-7789dcd654f4"
      },
      "execution_count": null,
      "outputs": [
        {
          "output_type": "execute_result",
          "data": {
            "text/plain": [
              "86.325"
            ]
          },
          "metadata": {},
          "execution_count": 38
        }
      ]
    },
    {
      "cell_type": "code",
      "source": [
        "metrics.confusion_matrix(Y_test, predict_val4)"
      ],
      "metadata": {
        "colab": {
          "base_uri": "https://localhost:8080/"
        },
        "id": "ovASTEzT22bR",
        "outputId": "1ba51535-84c8-4d2b-a82d-f2aee59ca6d9"
      },
      "execution_count": null,
      "outputs": [
        {
          "output_type": "execute_result",
          "data": {
            "text/plain": [
              "array([[1699,  280],\n",
              "       [ 267, 1754]])"
            ]
          },
          "metadata": {},
          "execution_count": 39
        }
      ]
    },
    {
      "cell_type": "code",
      "source": [
        "model_pipe4.predict(['AMbot talga bhie, bakit mna siya ingun ana'])"
      ],
      "metadata": {
        "colab": {
          "base_uri": "https://localhost:8080/"
        },
        "id": "EbkSDj1Z1Wch",
        "outputId": "ba2f01ab-4f94-49d9-fdfb-a68ed8848a5b"
      },
      "execution_count": null,
      "outputs": [
        {
          "output_type": "execute_result",
          "data": {
            "text/plain": [
              "array(['Cebuano'], dtype=object)"
            ]
          },
          "metadata": {},
          "execution_count": 40
        }
      ]
    },
    {
      "cell_type": "markdown",
      "source": [
        "# NAIVE BAYES model using pipeline\n",
        "\n",
        "### A machine learning model that is used for large volumes of data, even if you are working with data that has millions of data records the recommended approach is Naive Bayes"
      ],
      "metadata": {
        "id": "Vj5-V0fP1oPv"
      }
    },
    {
      "cell_type": "code",
      "source": [
        "model_pipe5 = pipeline.Pipeline([('vec', vec), ('clf',  naive_bayes.MultinomialNB())])"
      ],
      "metadata": {
        "id": "6r4wX3q11qf6"
      },
      "execution_count": null,
      "outputs": []
    },
    {
      "cell_type": "code",
      "source": [
        "model_pipe5.fit(X_train, Y_train)"
      ],
      "metadata": {
        "colab": {
          "base_uri": "https://localhost:8080/"
        },
        "id": "wlVmOfk41vzo",
        "outputId": "027117ba-866e-447e-d847-88233ecfeb8d"
      },
      "execution_count": null,
      "outputs": [
        {
          "output_type": "execute_result",
          "data": {
            "text/plain": [
              "Pipeline(steps=[('vec', TfidfVectorizer(analyzer='char', ngram_range=(2, 3))),\n",
              "                ('clf', MultinomialNB())])"
            ]
          },
          "metadata": {},
          "execution_count": 42
        }
      ]
    },
    {
      "cell_type": "code",
      "source": [
        "predict_val5 = model_pipe5.predict(X_test)"
      ],
      "metadata": {
        "id": "d64EdG_c1zTn"
      },
      "execution_count": null,
      "outputs": []
    },
    {
      "cell_type": "code",
      "source": [
        "metrics.accuracy_score(Y_test,predict_val5)*100"
      ],
      "metadata": {
        "colab": {
          "base_uri": "https://localhost:8080/"
        },
        "id": "GLPHC9Xj13Qz",
        "outputId": "5d94a8be-14a3-4002-b0a4-b529856fa7eb"
      },
      "execution_count": null,
      "outputs": [
        {
          "output_type": "execute_result",
          "data": {
            "text/plain": [
              "92.55"
            ]
          },
          "metadata": {},
          "execution_count": 44
        }
      ]
    },
    {
      "cell_type": "code",
      "source": [
        "metrics.confusion_matrix(Y_test, predict_val5)"
      ],
      "metadata": {
        "colab": {
          "base_uri": "https://localhost:8080/"
        },
        "id": "9OBTvUp12-oT",
        "outputId": "547143cc-2a71-4c9c-e1af-449e0dc2abd7"
      },
      "execution_count": null,
      "outputs": [
        {
          "output_type": "execute_result",
          "data": {
            "text/plain": [
              "array([[1788,  191],\n",
              "       [ 107, 1914]])"
            ]
          },
          "metadata": {},
          "execution_count": 45
        }
      ]
    },
    {
      "cell_type": "code",
      "source": [
        "model_pipe5.predict(['AMbot talga bhie, bakit mna siya ingun ana'])"
      ],
      "metadata": {
        "colab": {
          "base_uri": "https://localhost:8080/"
        },
        "id": "KebRvYDM16f_",
        "outputId": "47cac285-960a-47b9-bb73-798503c21049"
      },
      "execution_count": null,
      "outputs": [
        {
          "output_type": "execute_result",
          "data": {
            "text/plain": [
              "array(['Cebuano'], dtype='<U8')"
            ]
          },
          "metadata": {},
          "execution_count": 46
        }
      ]
    },
    {
      "cell_type": "markdown",
      "source": [
        "# SEPERATED ACCURACY SCORES FROM CELLS"
      ],
      "metadata": {
        "id": "rxlHyt6j4wHs"
      }
    },
    {
      "cell_type": "code",
      "source": [
        "LR = metrics.accuracy_score(Y_test,predict_val)*100\n",
        "SVMz = metrics.accuracy_score(Y_test,predict_val2)*100\n",
        "KNNz = metrics.accuracy_score(Y_test,predict_val3)*100\n",
        "DTz = metrics.accuracy_score(Y_test,predict_val4)*100\n",
        "NBz = metrics.accuracy_score(Y_test,predict_val5)*100"
      ],
      "metadata": {
        "id": "YnhQjVof3z1t"
      },
      "execution_count": null,
      "outputs": []
    },
    {
      "cell_type": "code",
      "source": [
        "print(\"Logistic Regression Accuracy Score -> \", LR, \"\\n\")\n",
        "print(\"SVM Accuracy Score -> \", SVMz, \"\\n\")\n",
        "print(\"KNN Accuracy Score -> \", KNNz, \"\\n\")\n",
        "print(\"Decision Tree Accuracy Score -> \", DTz, \"\\n\")\n",
        "print(\"Naive Bayes Accuracy Score -> \", NBz)"
      ],
      "metadata": {
        "colab": {
          "base_uri": "https://localhost:8080/"
        },
        "id": "PtkZ7QB54HiN",
        "outputId": "69ea60cf-295b-4f40-c47f-10ddbb7d642c"
      },
      "execution_count": null,
      "outputs": [
        {
          "output_type": "stream",
          "name": "stdout",
          "text": [
            "Logistic Regression Accuracy Score ->  94.825 \n",
            "\n",
            "SVM Accuracy Score ->  95.39999999999999 \n",
            "\n",
            "KNN Accuracy Score ->  84.025 \n",
            "\n",
            "Decision Tree Accuracy Score ->  86.325 \n",
            "\n",
            "Naive Bayes Accuracy Score ->  92.55\n"
          ]
        }
      ]
    },
    {
      "cell_type": "markdown",
      "source": [
        "------------------------------------------------------------------------------------------"
      ],
      "metadata": {
        "id": "6bL--SiV1h-Y"
      }
    },
    {
      "cell_type": "markdown",
      "source": [
        "------------------------------------------------------------------------------------------"
      ],
      "metadata": {
        "id": "OQtgJEpf5dRM"
      }
    },
    {
      "cell_type": "markdown",
      "source": [
        "# EXPERIMENTS SEC"
      ],
      "metadata": {
        "id": "uv2PPgZM1eK0"
      }
    },
    {
      "cell_type": "markdown",
      "source": [
        "# VECTORIZING "
      ],
      "metadata": {
        "id": "siGUI8OnsJiD"
      }
    },
    {
      "cell_type": "code",
      "source": [
        "Tfidf_vect = TfidfVectorizer(max_features=5000)\n",
        "Tfidf_vect.fit(df['Contexts'])\n",
        "Train_X_Tfidf = Tfidf_vect.transform(X_train)\n",
        "Test_X_Tfidf = Tfidf_vect.transform(X_test)"
      ],
      "metadata": {
        "id": "PT-G1hvLrhmt"
      },
      "execution_count": null,
      "outputs": []
    },
    {
      "cell_type": "markdown",
      "source": [
        "# SVM model"
      ],
      "metadata": {
        "id": "r8oxTo4dsGyr"
      }
    },
    {
      "cell_type": "code",
      "source": [
        "SVM = svm.SVC(C=1.0, kernel='linear', degree=3, gamma='auto')\n",
        "SVM.fit(Train_X_Tfidf,Y_train)\n",
        "# predict the labels on validation dataset\n",
        "predictions_SVM = SVM.predict(Test_X_Tfidf)\n",
        "\n",
        "# Use accuracy_score function to get the accuracy\n",
        "print(\"SVM Accuracy Score -> \",accuracy_score(predictions_SVM, Y_test)*100)"
      ],
      "metadata": {
        "colab": {
          "base_uri": "https://localhost:8080/"
        },
        "id": "HYuyVjWUq7yT",
        "outputId": "2eb49588-7e9b-4550-ebd9-f6c0f5ddad03"
      },
      "execution_count": null,
      "outputs": [
        {
          "output_type": "stream",
          "name": "stdout",
          "text": [
            "SVM Accuracy Score ->  96.3\n"
          ]
        }
      ]
    },
    {
      "cell_type": "markdown",
      "source": [
        "# KNN model"
      ],
      "metadata": {
        "id": "jlALrZX4suV6"
      }
    },
    {
      "cell_type": "code",
      "source": [
        "neigh = KNeighborsClassifier(n_neighbors=3)\n",
        "neigh.fit(Train_X_Tfidf,Y_train)\n",
        "# predict the labels on validation dataset\n",
        "predictions_KNN = neigh.predict(Test_X_Tfidf)\n",
        "\n",
        "# Use accuracy_score function to get the accuracy\n",
        "print(\"KNN Accuracy Score -> \",accuracy_score(predictions_KNN, Y_test)*100)"
      ],
      "metadata": {
        "colab": {
          "base_uri": "https://localhost:8080/"
        },
        "id": "Wbe13nkVsvr0",
        "outputId": "5061db71-19ab-4d06-d785-0f6b2c1849ea"
      },
      "execution_count": null,
      "outputs": [
        {
          "output_type": "stream",
          "name": "stdout",
          "text": [
            "KNN Accuracy Score ->  66.975\n"
          ]
        }
      ]
    },
    {
      "cell_type": "markdown",
      "source": [
        "# DECISION TREE model"
      ],
      "metadata": {
        "id": "3WspEgiUtL2N"
      }
    },
    {
      "cell_type": "code",
      "source": [
        "DT = DecisionTreeClassifier(random_state=0)\n",
        "DT.fit(Train_X_Tfidf,Y_train)\n",
        "# predict the labels on validation dataset\n",
        "predictions_DT = DT.predict(Test_X_Tfidf)\n",
        "\n",
        "# Use accuracy_score function to get the accuracy\n",
        "print(\"DT Accuracy Score -> \",accuracy_score(predictions_DT, Y_test)*100)"
      ],
      "metadata": {
        "colab": {
          "base_uri": "https://localhost:8080/"
        },
        "id": "V5edlUlitLY2",
        "outputId": "99c7ae36-eb59-4fcf-a5ed-9af60d0ff0b8"
      },
      "execution_count": null,
      "outputs": [
        {
          "output_type": "stream",
          "name": "stdout",
          "text": [
            "DT Accuracy Score ->  89.825\n"
          ]
        }
      ]
    },
    {
      "cell_type": "markdown",
      "source": [
        "# NAIVE BAYES model"
      ],
      "metadata": {
        "id": "mjNL_ixsuSMo"
      }
    },
    {
      "cell_type": "code",
      "source": [
        "Naive = naive_bayes.MultinomialNB()\n",
        "Naive.fit(Train_X_Tfidf,Y_train)\n",
        "# predict the labels on validation dataset\n",
        "predictions_NB = Naive.predict(Test_X_Tfidf)\n",
        "# Use accuracy_score function to get the accuracy\n",
        "print(\"Naive Bayes Accuracy Score -> \", accuracy_score(predictions_NB, Y_test)*100)"
      ],
      "metadata": {
        "colab": {
          "base_uri": "https://localhost:8080/"
        },
        "id": "J1iPqesAuRow",
        "outputId": "977c1ef2-a6ff-4e88-f9ba-9be515a11a07"
      },
      "execution_count": null,
      "outputs": [
        {
          "output_type": "stream",
          "name": "stdout",
          "text": [
            "Naive Bayes Accuracy Score ->  96.975\n"
          ]
        }
      ]
    },
    {
      "cell_type": "markdown",
      "source": [
        "# TEST CASES"
      ],
      "metadata": {
        "id": "I643H3HGsePB"
      }
    },
    {
      "cell_type": "code",
      "source": [
        "#Test Case\n",
        "input = [\"AMbot talga bhie, bakit mna siya ingun ana\"]\n",
        "transformed_input = Tfidf_vect.transform(input)"
      ],
      "metadata": {
        "id": "c1SbVBl7sfqI"
      },
      "execution_count": null,
      "outputs": []
    },
    {
      "cell_type": "code",
      "source": [
        "SVM.predict(transformed_input)"
      ],
      "metadata": {
        "colab": {
          "base_uri": "https://localhost:8080/"
        },
        "id": "WsL345BpslPz",
        "outputId": "e130a6c9-e7d8-4505-9168-25a432e4a93a"
      },
      "execution_count": null,
      "outputs": [
        {
          "output_type": "execute_result",
          "data": {
            "text/plain": [
              "array(['Cebuano'], dtype=object)"
            ]
          },
          "metadata": {},
          "execution_count": 55
        }
      ]
    },
    {
      "cell_type": "code",
      "source": [
        "neigh.predict(transformed_input)"
      ],
      "metadata": {
        "colab": {
          "base_uri": "https://localhost:8080/"
        },
        "id": "8q-Qe-6NuK9k",
        "outputId": "969c8a1b-e73c-44e4-f32a-04c31c7ca62f"
      },
      "execution_count": null,
      "outputs": [
        {
          "output_type": "execute_result",
          "data": {
            "text/plain": [
              "array(['Filipino'], dtype=object)"
            ]
          },
          "metadata": {},
          "execution_count": 56
        }
      ]
    },
    {
      "cell_type": "code",
      "source": [
        "DT.predict(transformed_input)"
      ],
      "metadata": {
        "colab": {
          "base_uri": "https://localhost:8080/"
        },
        "id": "AaOEEy6rt0CA",
        "outputId": "2a482182-279e-4219-c7c6-f6e9adc8228b"
      },
      "execution_count": null,
      "outputs": [
        {
          "output_type": "execute_result",
          "data": {
            "text/plain": [
              "array(['Filipino'], dtype=object)"
            ]
          },
          "metadata": {},
          "execution_count": 57
        }
      ]
    },
    {
      "cell_type": "code",
      "source": [
        "Naive.predict(transformed_input)"
      ],
      "metadata": {
        "colab": {
          "base_uri": "https://localhost:8080/"
        },
        "id": "SlF9vxW9uagT",
        "outputId": "f1522b65-7b7f-4774-b071-036a0517ccf4"
      },
      "execution_count": null,
      "outputs": [
        {
          "output_type": "execute_result",
          "data": {
            "text/plain": [
              "array(['Cebuano'], dtype='<U8')"
            ]
          },
          "metadata": {},
          "execution_count": 58
        }
      ]
    },
    {
      "cell_type": "markdown",
      "source": [
        "# IDEA\n",
        "\n",
        "The idea is to train and test the data given, then identify an input in which the input is closest to any data being trained. "
      ],
      "metadata": {
        "id": "ZqxnYFvZNEEe"
      }
    }
  ]
}